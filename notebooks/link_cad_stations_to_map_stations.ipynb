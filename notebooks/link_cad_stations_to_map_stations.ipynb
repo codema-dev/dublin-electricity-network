{
 "cells": [
  {
   "cell_type": "code",
   "execution_count": null,
   "metadata": {},
   "outputs": [],
   "source": [
    "from os import listdir\n",
    "from shutil import unpack_archive\n",
    "import geopandas as gpd\n",
    "\n",
    "from des import download\n",
    "from des import io\n",
    "from des import join\n",
    "\n",
    "data_dir = \"../data\"\n",
    "cad_data = \"/home/wsl-rowanm/Data/ESBdata_20200124\""
   ]
  },
  {
   "cell_type": "markdown",
   "metadata": {},
   "source": [
    "# Get LA boundaries"
   ]
  },
  {
   "cell_type": "code",
   "execution_count": null,
   "metadata": {
    "lines_to_next_cell": 2
   },
   "outputs": [],
   "source": [
    "download.download(\n",
    "    url=\"https://zenodo.org/record/4446778/files/dublin_admin_county_boundaries.zip\",\n",
    "    to_filepath=f\"{data_dir}/external/dublin_admin_county_boundaries.zip\"\n",
    ")\n",
    "unpack_archive(\n",
    "    filename=f\"{data_dir}/external/dublin_admin_county_boundaries.zip\",\n",
    "    extract_dir=f\"{data_dir}/external/dublin_admin_county_boundaries\",\n",
    ")"
   ]
  },
  {
   "cell_type": "code",
   "execution_count": null,
   "metadata": {},
   "outputs": [],
   "source": [
    "dublin_admin_county_boundaries = io.read_dublin_admin_county_boundaries(\n",
    "    f\"{data_dir}/external/dublin_admin_county_boundaries\"\n",
    ")"
   ]
  },
  {
   "cell_type": "markdown",
   "metadata": {},
   "source": [
    "# Get 38kV, 110kV & 220kV stations from CAD data\n",
    "\n",
    "... there is no 400kV station in Dublin"
   ]
  },
  {
   "cell_type": "markdown",
   "metadata": {},
   "source": [
    "Must be downloaded from the Codema Google Shared Drive or <span style=\"color:red\">**requested from the ESB**</span>"
   ]
  },
  {
   "cell_type": "code",
   "execution_count": null,
   "metadata": {},
   "outputs": [],
   "source": [
    "hv_network_dirpath = f\"{cad_data}/Dig Request Style/HV Data\"\n",
    "hv_network_filepaths = [\n",
    "    f\"{hv_network_dirpath}/{filename}\"\n",
    "    for filename in listdir(hv_network_dirpath)\n",
    "]\n",
    "cad_stations_ireland = io.read_network(hv_network_filepaths, levels=[20,30,40])\n",
    "cad_stations_dublin = gpd.sjoin(\n",
    "    cad_stations_ireland,\n",
    "    dublin_admin_county_boundaries,\n",
    "    op=\"within\",\n",
    ").drop(columns=[\"index_right\", \"COUNTYNAME\"])"
   ]
  },
  {
   "cell_type": "markdown",
   "metadata": {},
   "source": [
    "# Get Map stations"
   ]
  },
  {
   "cell_type": "code",
   "execution_count": null,
   "metadata": {},
   "outputs": [],
   "source": [
    "heatmap_stations_ireland = io.read_heatmap(f\"{data_dir}/external/heatmap-download-version-nov-2020.xlsx\")\n",
    "heatmap_stations_dublin =  gpd.sjoin(\n",
    "    heatmap_stations_ireland,\n",
    "    dublin_admin_county_boundaries,\n",
    "    op=\"within\",\n",
    ").drop(columns=\"index_right\")\n",
    "heatmap_stations_dublin_hv = heatmap_stations_dublin.query(\"station_name != 'mv/lv'\")"
   ]
  },
  {
   "cell_type": "code",
   "execution_count": null,
   "metadata": {},
   "outputs": [],
   "source": [
    "capacitymap_stations_ireland = io.read_capacitymap(f\"{data_dir}/external/MapDetailsDemand.xlsx\")\n",
    "capacitymap_stations_dublin = gpd.sjoin(\n",
    "    capacitymap_stations_ireland,\n",
    "    dublin_admin_county_boundaries,\n",
    "    op=\"within\",\n",
    ").drop(columns=\"index_right\")\n",
    "capacitymap_stations_dublin_hv = capacitymap_stations_dublin.query(\"station_name != 'mv/lv'\")"
   ]
  },
  {
   "cell_type": "markdown",
   "metadata": {},
   "source": [
    "## Link stations to nearest geocoded station"
   ]
  },
  {
   "cell_type": "code",
   "execution_count": null,
   "metadata": {},
   "outputs": [],
   "source": [
    "cad_stations_linked_to_heatmap = join.join_nearest_points(cad_stations_dublin, heatmap_stations_dublin_hv)"
   ]
  },
  {
   "cell_type": "code",
   "execution_count": null,
   "metadata": {},
   "outputs": [],
   "source": [
    "cad_stations_linked_to_capacitymap = join.join_nearest_points(cad_stations_dublin, capacitymap_stations_dublin_hv)"
   ]
  },
  {
   "cell_type": "markdown",
   "metadata": {},
   "source": [
    "# Plot CAD stations vs Heatmap stations\n",
    "\n",
    "... Open `png` version of below plot locally (see [save](#save)) to zoom in"
   ]
  },
  {
   "cell_type": "code",
   "execution_count": null,
   "metadata": {},
   "outputs": [],
   "source": [
    "import matplotlib.patheffects as pe\n",
    "import matplotlib.pyplot as plt\n",
    "\n",
    "f, ax = plt.subplots(figsize=(100, 100))\n",
    "\n",
    "dublin_admin_county_boundaries.plot(ax=ax, facecolor=\"teal\", edgecolor=\"white\")\n",
    "\n",
    "cad_stations_linked_to_heatmap.plot(ax=ax, color=\"black\")\n",
    "cad_stations_linked_to_heatmap.apply(\n",
    "    lambda x: ax.annotate(\n",
    "        text=x[\"station_name\"],\n",
    "        xy=x.geometry.centroid.coords[0],\n",
    "        ha='center',\n",
    "        color=\"white\",\n",
    "        path_effects=[pe.withStroke(linewidth=2, foreground=\"black\")],\n",
    "    ),\n",
    "    axis=1,\n",
    ");\n",
    "\n",
    "heatmap_stations_dublin_hv.plot(ax=ax,color=\"orange\")\n",
    "heatmap_stations_dublin_hv.apply(\n",
    "    lambda x: ax.annotate(\n",
    "        text=x[\"station_name\"],\n",
    "        xy=x.geometry.centroid.coords[0],\n",
    "        ha='center',\n",
    "        color=\"white\",\n",
    "        path_effects=[pe.withStroke(linewidth=2, foreground=\"orange\")],\n",
    "    ),\n",
    "    axis=1,\n",
    ");\n",
    "\n",
    "capacitymap_stations_dublin_hv.plot(ax=ax,color=\"red\")\n",
    "capacitymap_stations_dublin_hv.apply(\n",
    "    lambda x: ax.annotate(\n",
    "        text=x[\"station_name\"],\n",
    "        xy=x.geometry.centroid.coords[0],\n",
    "        ha='center',\n",
    "        color=\"white\",\n",
    "        path_effects=[pe.withStroke(linewidth=2, foreground=\"red\")],\n",
    "    ),\n",
    "    axis=1,\n",
    ");\n",
    "\n",
    "plt.legend([\"CAD\", \"Heat Map\", \"Capacity Map\"], prop={'size': 50});"
   ]
  },
  {
   "cell_type": "markdown",
   "metadata": {},
   "source": [
    "# Save"
   ]
  },
  {
   "cell_type": "code",
   "execution_count": null,
   "metadata": {},
   "outputs": [],
   "source": [
    "f.savefig(f\"{data_dir}/outputs/cad-stations-linked-to-nearest-heatmap-station.png\")"
   ]
  },
  {
   "cell_type": "code",
   "execution_count": null,
   "metadata": {},
   "outputs": [],
   "source": [
    "cad_stations_linked_to_heatmap.to_file(\n",
    "    f\"{data_dir}/outputs/cad-stations-linked-to-nearest-heatmap-station.geojson\",\n",
    "    driver=\"GeoJSON\",\n",
    ")"
   ]
  }
 ],
 "metadata": {
  "jupytext": {
   "formats": "ipynb,py:light",
   "main_language": "python"
  },
  "kernelspec": {
   "display_name": "Python 3.9.1 64-bit ('des': conda)",
   "metadata": {
    "interpreter": {
     "hash": "a568a3391fa07a69dd36ed86d7f7005a7e6c42f5000f39f23663d14718557572"
    }
   },
   "name": "python3"
  },
  "language_info": {
   "codemirror_mode": {
    "name": "ipython",
    "version": 3
   },
   "file_extension": ".py",
   "mimetype": "text/x-python",
   "name": "python",
   "nbconvert_exporter": "python",
   "pygments_lexer": "ipython3",
   "version": "3.9.1"
  }
 },
 "nbformat": 4,
 "nbformat_minor": 4
}
