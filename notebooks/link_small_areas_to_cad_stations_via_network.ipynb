{
 "cells": [
  {
   "cell_type": "markdown",
   "metadata": {},
   "source": [
    "# Run `link_cad_stations_to_map_stations.ipynb` first so that Small Areas can be linked to Map stations via CAD stations"
   ]
  },
  {
   "cell_type": "markdown",
   "metadata": {},
   "source": [
    "# Setup"
   ]
  },
  {
   "cell_type": "code",
   "execution_count": null,
   "metadata": {},
   "outputs": [],
   "source": [
    "from os import listdir\n",
    "\n",
    "import pandas as pd\n",
    "import geopandas as gpd\n",
    "import matplotlib.patheffects as pe\n",
    "import matplotlib.pyplot as plt\n",
    "import momepy\n",
    "from shapely.geometry import box\n",
    "\n",
    "from des import distance\n",
    "from des import download\n",
    "from des import io\n",
    "from des import join\n",
    "from des import paths\n",
    "from des import plot\n",
    "from des import unzip\n",
    "\n",
    "data_dir = \"../data\"\n",
    "cad_data = \"/home/wsl-rowanm/Data/ESBdata_20200124\"\n",
    "show_plots = True"
   ]
  },
  {
   "cell_type": "markdown",
   "metadata": {},
   "source": [
    "# Get Small Area boundaries"
   ]
  },
  {
   "cell_type": "code",
   "execution_count": null,
   "metadata": {},
   "outputs": [],
   "source": [
    "download.download(\n",
    "    url=\"https://opendata.arcgis.com/datasets/c85e610da1464178a2cd84a88020c8e2_3.zip\",\n",
    "    to_filepath=f\"{data_dir}/external/Small_Areas_Ungeneralised_-_OSi_National_Statistical_Boundaries_-_2015-shp.zip\",\n",
    ")\n",
    "unzip.unzip(\n",
    "    filename=f\"{data_dir}/external/Small_Areas_Ungeneralised_-_OSi_National_Statistical_Boundaries_-_2015-shp.zip\",\n",
    "    extract_dir=f\"{data_dir}/external/Small_Areas_Ungeneralised_-_OSi_National_Statistical_Boundaries_-_2015-shp\",\n",
    ")"
   ]
  },
  {
   "cell_type": "code",
   "execution_count": null,
   "metadata": {},
   "outputs": [],
   "source": [
    "small_areas = io.read_dublin_small_areas(f\"{data_dir}/external/Small_Areas_Ungeneralised_-_OSi_National_Statistical_Boundaries_-_2015-shp\")"
   ]
  },
  {
   "cell_type": "markdown",
   "metadata": {},
   "source": [
    "# Get Local Authority boundaries"
   ]
  },
  {
   "cell_type": "code",
   "execution_count": null,
   "metadata": {},
   "outputs": [],
   "source": [
    "dublin_admin_county_boundaries = io.read_dublin_admin_county_boundaries(\n",
    "    f\"{data_dir}/external/dublin_admin_county_boundaries\"\n",
    ")"
   ]
  },
  {
   "cell_type": "markdown",
   "metadata": {},
   "source": [
    "# Get MV Network and Get 38kV, 110kV & 220kV  stations\n",
    "\n",
    "... there is no 400kV station in Dublin"
   ]
  },
  {
   "cell_type": "code",
   "execution_count": null,
   "metadata": {},
   "outputs": [],
   "source": [
    "ireland_mv_index = io.read_mv_index(f\"{cad_data}/Ancillary Data/mv_index.dgn\")"
   ]
  },
  {
   "cell_type": "code",
   "execution_count": null,
   "metadata": {},
   "outputs": [],
   "source": [
    "dublin_boundary = gpd.GeoSeries(box(695000, 715000, 740000, 771000)).rename(\"geometry\").to_frame()\n",
    "dublin_mv_index = gpd.sjoin(ireland_mv_index, dublin_boundary, op=\"within\")\n",
    "dublin_mv_network_filepaths = [\n",
    "    f\"{cad_data}/Dig Request Style/MV-LV Data/{index}.dgn\" for index in dublin_mv_index.Text\n",
    "]"
   ]
  },
  {
   "cell_type": "code",
   "execution_count": null,
   "metadata": {},
   "outputs": [],
   "source": [
    "mv_network_lines = io.read_network(dublin_mv_network_filepaths, levels=[10, 11, 14]).reset_index(drop=True).explode()"
   ]
  },
  {
   "cell_type": "code",
   "execution_count": null,
   "metadata": {},
   "outputs": [],
   "source": [
    "hv_network_filepaths = [\n",
    "    f\"{cad_data}/Dig Request Style/HV Data/{filename}\"\n",
    "    for filename in listdir(f\"{cad_data}/Dig Request Style/HV Data/\")\n",
    "]"
   ]
  },
  {
   "cell_type": "code",
   "execution_count": null,
   "metadata": {},
   "outputs": [],
   "source": [
    "hv_stations_ireland = io.read_network(hv_network_filepaths, levels=[20, 30, 40])\n",
    "hv_stations_dublin = (\n",
    "    gpd.sjoin(\n",
    "        hv_stations_ireland,\n",
    "        dublin_admin_county_boundaries,\n",
    "        op=\"within\",\n",
    "    )\n",
    "    .drop(columns=[\"index_right\", \"COUNTYNAME\"])\n",
    "    .reset_index(drop=True)\n",
    "    .assign(station_id=lambda gdf: gdf.index)\n",
    ")"
   ]
  },
  {
   "cell_type": "code",
   "execution_count": null,
   "metadata": {},
   "outputs": [],
   "source": [
    "if show_plots:\n",
    "    \n",
    "    ax = dublin_admin_county_boundaries.plot(figsize=(15,15), facecolor=\"orange\", edgecolor=\"orange\")\n",
    "    mv_network_lines.plot(ax=ax)\n",
    "    dublin_boundary.plot(ax=ax, facecolor=\"none\", edgecolor=\"cyan\")\n",
    "    hv_stations_dublin.plot(ax=ax, color=\"black\")"
   ]
  },
  {
   "cell_type": "markdown",
   "metadata": {},
   "source": [
    "# Link Each Small Area Centroid to a Station via Network\n",
    "\n",
    "Use `networkx` to find the station that is closest along the network to each small area centroid:\n",
    "- Convert `geopandas` `GeoDataFrame` to `networkx` `MultiGraph` via `momepy` for network analysis\n",
    "- Extract the largest unbroken network\n",
    "- Extract all stations and small areas near the network\n",
    "- Trace the path from each small area centroid to the nearest station along the network"
   ]
  },
  {
   "cell_type": "code",
   "execution_count": null,
   "metadata": {},
   "outputs": [],
   "source": [
    "G = momepy.gdf_to_nx(mv_network_lines, approach=\"primal\")"
   ]
  },
  {
   "cell_type": "code",
   "execution_count": null,
   "metadata": {},
   "outputs": [],
   "source": [
    "G_largest = distance.get_largest_subgraph(G)"
   ]
  },
  {
   "cell_type": "code",
   "execution_count": null,
   "metadata": {},
   "outputs": [],
   "source": [
    "G_largest_nodes, G_largest_edges, G_largest_sw = momepy.nx_to_gdf(\n",
    "    G_largest,\n",
    "    points=True,\n",
    "    lines=True,\n",
    "    spatial_weights=True\n",
    ")"
   ]
  },
  {
   "cell_type": "code",
   "execution_count": null,
   "metadata": {},
   "outputs": [],
   "source": [
    "G_largest_edges_buffered = (\n",
    "    G_largest_edges[[\"geometry\"]]\n",
    "    .assign(geometry=lambda gdf: gdf.buffer(750))\n",
    "    .dissolve()\n",
    ")"
   ]
  },
  {
   "cell_type": "code",
   "execution_count": null,
   "metadata": {},
   "outputs": [],
   "source": [
    "small_areas_near_g_largest = join.centroids_within(small_areas, G_largest_edges_buffered)"
   ]
  },
  {
   "cell_type": "code",
   "execution_count": null,
   "metadata": {},
   "outputs": [],
   "source": [
    "hv_stations_near_g_largest = gpd.sjoin(\n",
    "    hv_stations_dublin,\n",
    "    G_largest_edges_buffered,\n",
    "    op=\"within\",\n",
    ").drop(columns=\"index_right\").reset_index(drop=True)"
   ]
  },
  {
   "cell_type": "code",
   "execution_count": null,
   "metadata": {},
   "outputs": [],
   "source": [
    "hv_stations_snapped_to_g_largest = join.snap_points_to_network(G_largest, hv_stations_near_g_largest)"
   ]
  },
  {
   "cell_type": "code",
   "execution_count": null,
   "metadata": {},
   "outputs": [],
   "source": [
    "shortest_paths = paths.get_network_paths_between_points(\n",
    "    G=G_largest,\n",
    "    orig_points=small_areas_near_g_largest,\n",
    "    dest_points=hv_stations_snapped_to_g_largest,\n",
    ")"
   ]
  },
  {
   "cell_type": "code",
   "execution_count": null,
   "metadata": {},
   "outputs": [],
   "source": [
    "if show_plots:\n",
    "    n = 0 # change 'n' to change the path to be displayed\n",
    "    f, ax = plt.subplots(figsize=(15, 15))\n",
    "\n",
    "    dublin_admin_county_boundaries.plot(edgecolor=\"red\", facecolor=\"orange\", ax=ax)\n",
    "\n",
    "    positions = {z: [z[0], z[1]] for z in list(G.nodes)}\n",
    "    nx.draw(G_largest, positions, node_size=5, ax=ax, node_color=\"none\", edge_color=\"teal\")\n",
    "\n",
    "    x, y = zip(*shortest_paths[n][1])\n",
    "    ax.plot(x, y, c=\"k\", lw=20, alpha=0.5)\n",
    "    ax.scatter(\n",
    "        small_areas_near_g_largest.iloc[n].geometry.centroid.x,\n",
    "        small_areas_near_g_largest.iloc[n].geometry.centroid.y,\n",
    "        color=\"green\",\n",
    "        s=50,\n",
    "    )\n",
    "    ax.scatter(x[0], y[0], color=\"red\", s=50)\n",
    "    ax.scatter(x[-1], y[-1], color=\"green\", s=50)\n",
    "    ax.scatter(\n",
    "        hv_stations_snapped_to_g_largest.geometry.x,\n",
    "        hv_stations_snapped_to_g_largest.geometry.y,\n",
    "        color=\"black\",\n",
    "        s=10,\n",
    "    )"
   ]
  },
  {
   "cell_type": "markdown",
   "metadata": {},
   "source": [
    "# Link Small Areas to stations"
   ]
  },
  {
   "cell_type": "code",
   "execution_count": null,
   "metadata": {
    "lines_to_next_cell": 2
   },
   "outputs": [],
   "source": [
    "small_areas_linked_to_stations_via_network = paths.extract_nearest_dest(\n",
    "    shortest_paths,\n",
    "    small_areas_near_g_largest,\n",
    "    hv_stations_snapped_to_g_largest\n",
    ").drop_duplicates(subset=\"SMALL_AREA\")"
   ]
  },
  {
   "cell_type": "code",
   "execution_count": null,
   "metadata": {},
   "outputs": [],
   "source": [
    "small_areas_remaining_centroids = gpd.GeoDataFrame(\n",
    "    small_areas\n",
    "    .merge(small_areas_near_g_largest, how=\"left\", indicator=True)\n",
    "    .query(\"`_merge` == 'left_only'\")\n",
    "    .drop(columns=\"_merge\")\n",
    "    .assign(geometry=lambda gdf: gdf.geometry.centroid)\n",
    ")"
   ]
  },
  {
   "cell_type": "code",
   "execution_count": null,
   "metadata": {},
   "outputs": [],
   "source": [
    "small_areas_linked_to_stations_via_nearest = (\n",
    "    join.join_nearest_points(small_areas_remaining_centroids, hv_stations_dublin)\n",
    "    .drop(columns=[\"geometry\", \"COUNTYNAME\"])\n",
    "    .merge(small_areas)\n",
    "    .drop_duplicates(subset=\"SMALL_AREA\")\n",
    ")"
   ]
  },
  {
   "cell_type": "code",
   "execution_count": null,
   "metadata": {},
   "outputs": [],
   "source": [
    "small_areas_linked_to_stations = pd.concat(\n",
    "    [\n",
    "        small_areas_linked_to_stations_via_network,\n",
    "        small_areas_linked_to_stations_via_nearest,\n",
    "    ]\n",
    ").drop_duplicates(subset=\"SMALL_AREA\")"
   ]
  },
  {
   "cell_type": "code",
   "execution_count": null,
   "metadata": {},
   "outputs": [],
   "source": [
    "small_areas_linked_to_stations_via_network.plot(\n",
    "    edgecolor=\"white\",\n",
    "    facecolor=\"teal\"\n",
    ")"
   ]
  },
  {
   "cell_type": "code",
   "execution_count": null,
   "metadata": {},
   "outputs": [],
   "source": [
    "if show_plots:\n",
    "    \n",
    "    f, ax = plt.subplots(figsize=(120,120))\n",
    "\n",
    "    small_areas_linked_to_stations_via_network.plot(\n",
    "        ax=ax,\n",
    "        edgecolor=\"white\",\n",
    "        color=\"teal\",\n",
    "    )\n",
    "    small_areas_linked_to_stations_via_network.apply(\n",
    "        lambda x: ax.annotate(\n",
    "            text=x[\"station_id\"],\n",
    "            xy=x.geometry.centroid.coords[0],\n",
    "            va='bottom',\n",
    "            color=\"white\",\n",
    "            path_effects=[pe.withStroke(linewidth=2, foreground=\"orange\")],\n",
    "        ),\n",
    "        axis=1,\n",
    "    )\n",
    "    small_areas_linked_to_stations_via_nearest.plot(\n",
    "        ax=ax,\n",
    "        edgecolor=\"white\",\n",
    "        facecolor=\"cyan\",\n",
    "    )\n",
    "    small_areas_linked_to_stations_via_nearest.apply(\n",
    "        lambda x: ax.annotate(\n",
    "            text=x[\"station_id\"],\n",
    "            xy=x.geometry.centroid.coords[0],\n",
    "            va='bottom',\n",
    "            color=\"white\",\n",
    "            path_effects=[pe.withStroke(linewidth=2, foreground=\"brown\")],\n",
    "        ),\n",
    "        axis=1,\n",
    "    )\n",
    "\n",
    "    G_positions = {z: [z[0], z[1]] for z in list(G.nodes)}\n",
    "    nx.draw(G, G_positions, node_size=5, ax=ax, node_color=\"none\", edge_color=\"blue\")\n",
    "    G_largest_positions = {z: [z[0], z[1]] for z in list(G_largest.nodes)}\n",
    "    nx.draw(\n",
    "        G_largest,\n",
    "        G_largest_positions,\n",
    "        node_size=5,\n",
    "        ax=ax,\n",
    "        node_color=\"none\",\n",
    "        edge_color=\"red\",\n",
    "    )\n",
    "    \n",
    "    hv_stations_dublin.plot(ax=ax, color=\"black\")\n",
    "    hv_stations_dublin.apply(\n",
    "        lambda x: ax.annotate(\n",
    "            text=x[\"station_id\"],\n",
    "            xy=x.geometry.centroid.coords[0],\n",
    "            va='top',\n",
    "            color=\"white\",\n",
    "            path_effects=[pe.withStroke(linewidth=2, foreground=\"black\")],\n",
    "        ),\n",
    "        axis=1,\n",
    "    )\n",
    "    hv_stations_dublin.apply(\n",
    "        lambda x: ax.annotate(\n",
    "            text=x[\"station_name\"],\n",
    "            xy=x.geometry.centroid.coords[0],\n",
    "            va='bottom',\n",
    "            color=\"white\",\n",
    "            path_effects=[pe.withStroke(linewidth=2, foreground=\"black\")],\n",
    "        ),\n",
    "        axis=1,\n",
    "    )\n",
    "\n",
    "    # plt.legend([\"Small Area Station IDs\", \"CAD Stations linked to Heat Map\"], prop={'size': 25});\n",
    "    plt.legend(list(range(5)), prop={'size': 25});"
   ]
  }
 ],
 "metadata": {
  "jupytext": {
   "encoding": "# -*- coding: utf-8 -*-",
   "formats": "ipynb,py:light"
  },
  "kernelspec": {
   "display_name": "Python 3",
   "language": "python",
   "name": "python3"
  },
  "language_info": {
   "codemirror_mode": {
    "name": "ipython",
    "version": 3
   },
   "file_extension": ".py",
   "mimetype": "text/x-python",
   "name": "python",
   "nbconvert_exporter": "python",
   "pygments_lexer": "ipython3",
   "version": "3.9.1"
  }
 },
 "nbformat": 4,
 "nbformat_minor": 4
}
